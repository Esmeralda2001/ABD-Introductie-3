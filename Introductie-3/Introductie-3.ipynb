{
 "cells": [
  {
   "cell_type": "code",
   "execution_count": 5,
   "metadata": {},
   "outputs": [],
   "source": [
    "import operator\n",
    "from random import shuffle\n",
    "from random import choice\n",
    "import random"
   ]
  },
  {
   "cell_type": "code",
   "execution_count": 6,
   "metadata": {},
   "outputs": [],
   "source": [
    "class Voters:\n",
    "    def __init__(self, name, votes=[]):\n",
    "        self.name = name\n",
    "        self.votes = votes"
   ]
  },
  {
   "cell_type": "code",
   "execution_count": 7,
   "metadata": {},
   "outputs": [],
   "source": [
    "def Plurality_Voting(candidates, voters=3):\n",
    "    agents = []\n",
    "    for i in range(voters):\n",
    "        candidates_copy = candidates[:]\n",
    "        shuffle(candidates_copy)\n",
    "        a = Voters(\"a\"+str(i+1), candidates_copy)\n",
    "        agents.append(a)\n",
    "        \n",
    "    votes = {}\n",
    "    for candidate in candidates:\n",
    "        votes[candidate] = 0\n",
    "    \n",
    "    for agent in agents:\n",
    "        if agent.votes[0] in votes:\n",
    "            votes[agent.votes[0]] += 1 \n",
    "            \n",
    "    for key in votes:\n",
    "        print(key+\" got \"+str(votes[key])+\" votes.\")\n",
    "        \n",
    "    return max(votes.items(), key=operator.itemgetter(1))[0]"
   ]
  },
  {
   "cell_type": "code",
   "execution_count": 8,
   "metadata": {},
   "outputs": [
    {
     "name": "stdout",
     "output_type": "stream",
     "text": [
      "a got 1 votes.\n",
      "b got 1 votes.\n",
      "c got 1 votes.\n"
     ]
    },
    {
     "data": {
      "text/plain": [
       "'a'"
      ]
     },
     "execution_count": 8,
     "metadata": {},
     "output_type": "execute_result"
    }
   ],
   "source": [
    "Plurality_Voting([\"a\", \"b\", \"c\"])"
   ]
  },
  {
   "cell_type": "code",
   "execution_count": 9,
   "metadata": {},
   "outputs": [],
   "source": [
    "def Cumulative_Voting(candidates, k=3, voters=3):\n",
    "    votes = {}\n",
    "    agents = []\n",
    "    \n",
    "    for i in range(voters):\n",
    "        agent_votes = []\n",
    "        for j in range(k):\n",
    "            agent_votes.append(choice(candidates))\n",
    "        a = Voters(\"a\"+str(i+1), agent_votes)\n",
    "        print(agent_votes)\n",
    "        agents.append(a)\n",
    "\n",
    "    for candidate in candidates:\n",
    "        votes[candidate] = 0\n",
    "    \n",
    "    for agent in agents:\n",
    "        for vote in agent.votes:\n",
    "            if vote in votes:\n",
    "                votes[vote] += 1\n",
    "                \n",
    "    for key in votes:\n",
    "        print(key+\" got \"+str(votes[key])+\" votes.\")\n",
    "            \n",
    "    return max(votes.items(), key=operator.itemgetter(1))[0]"
   ]
  },
  {
   "cell_type": "code",
   "execution_count": 10,
   "metadata": {},
   "outputs": [
    {
     "name": "stdout",
     "output_type": "stream",
     "text": [
      "['b', 'a', 'a']\n",
      "['c', 'b', 'a']\n",
      "['c', 'c', 'b']\n",
      "a got 3 votes.\n",
      "b got 3 votes.\n",
      "c got 3 votes.\n"
     ]
    },
    {
     "data": {
      "text/plain": [
       "'a'"
      ]
     },
     "execution_count": 10,
     "metadata": {},
     "output_type": "execute_result"
    }
   ],
   "source": [
    "Cumulative_Voting([\"a\", \"b\", \"c\"])"
   ]
  },
  {
   "cell_type": "code",
   "execution_count": 11,
   "metadata": {},
   "outputs": [],
   "source": [
    "def Approval_Voting(candidates, voters=3):\n",
    "    votes = {}\n",
    "    agents = []\n",
    "    \n",
    "    for i in range(voters):\n",
    "        agent_votes = []\n",
    "        k = random.randint(1, len(candidates))\n",
    "        candidates_copy = candidates[:]\n",
    "        for j in range(k):\n",
    "            v = choice(candidates_copy)\n",
    "            candidates_copy.remove(v)\n",
    "            agent_votes.append(v)\n",
    "        a = Voters(\"a\"+str(i+1), agent_votes)\n",
    "        print(agent_votes)\n",
    "        agents.append(a)\n",
    "\n",
    "    for candidate in candidates:\n",
    "        votes[candidate] = 0\n",
    "    \n",
    "    for agent in agents:\n",
    "        for vote in agent.votes:\n",
    "            if vote in votes:\n",
    "                votes[vote] += 1\n",
    "                \n",
    "    for key in votes:\n",
    "        print(key+\" got \"+str(votes[key])+\" votes.\")\n",
    "            \n",
    "    return max(votes.items(), key=operator.itemgetter(1))[0]"
   ]
  },
  {
   "cell_type": "code",
   "execution_count": 12,
   "metadata": {},
   "outputs": [
    {
     "name": "stdout",
     "output_type": "stream",
     "text": [
      "['c', 'b']\n",
      "['c']\n",
      "['a', 'b']\n",
      "a got 1 votes.\n",
      "b got 2 votes.\n",
      "c got 2 votes.\n"
     ]
    },
    {
     "data": {
      "text/plain": [
       "'b'"
      ]
     },
     "execution_count": 12,
     "metadata": {},
     "output_type": "execute_result"
    }
   ],
   "source": [
    "Approval_Voting([\"a\", \"b\", \"c\"])"
   ]
  },
  {
   "cell_type": "code",
   "execution_count": 13,
   "metadata": {},
   "outputs": [],
   "source": [
    "def Plurality_Elimination_Voting(candidates, voters):\n",
    "    candidates_left = len(candidates)\n",
    "    agents = []\n",
    "    votes = {}\n",
    "    \n",
    "    while candidates_left > 1:\n",
    "        num = 0 \n",
    "        print(voters)\n",
    "        for i in voters:\n",
    "            agent_votes = [choice(candidates)]\n",
    "            a = Voters(\"a\"+str(num+1), agent_votes)\n",
    "            print(agent_votes)\n",
    "            agents.append(a)\n",
    "            num += 1 \n",
    "            \n",
    "        for candidate in candidates:\n",
    "            votes[candidate] = 0\n",
    "        \n",
    "        for agent in agents:\n",
    "            for vote in agent.votes:\n",
    "                if vote in votes:\n",
    "                    votes[vote] += 1\n",
    "        \n",
    "        for key in votes:\n",
    "            print(key+\" got \"+str(votes[key])+\" votes.\")\n",
    "        \n",
    "        least_votes = min(votes.items(), key=operator.itemgetter(1))[0]\n",
    "        candidates.remove(least_votes)\n",
    "        candidates_left -= 1 \n",
    "        if candidates_left == 1:\n",
    "            break \n",
    "        votes = {}\n",
    "\n",
    "        for a in agents:\n",
    "            for vote in a.votes:\n",
    "                print(\"votes \",a.votes, least_votes)\n",
    "                if least_votes in a.votes:\n",
    "                    a.votes = choice(candidates)\n",
    "        agents = []\n",
    "        \n",
    "    return max(votes.items(), key=operator.itemgetter(1))[0]"
   ]
  },
  {
   "cell_type": "code",
   "execution_count": 14,
   "metadata": {},
   "outputs": [
    {
     "name": "stdout",
     "output_type": "stream",
     "text": [
      "['a1', 'a2', 'a3', 'a4', 'a5']\n",
      "['a']\n",
      "['a']\n",
      "['c']\n",
      "['b']\n",
      "['a']\n",
      "a got 3 votes.\n",
      "b got 1 votes.\n",
      "c got 1 votes.\n",
      "votes  ['a'] b\n",
      "votes  ['a'] b\n",
      "votes  ['c'] b\n",
      "votes  ['b'] b\n",
      "votes  ['a'] b\n",
      "['a1', 'a2', 'a3', 'a4', 'a5']\n",
      "['a']\n",
      "['a']\n",
      "['a']\n",
      "['a']\n",
      "['a']\n",
      "a got 5 votes.\n",
      "c got 0 votes.\n"
     ]
    },
    {
     "data": {
      "text/plain": [
       "'a'"
      ]
     },
     "execution_count": 14,
     "metadata": {},
     "output_type": "execute_result"
    }
   ],
   "source": [
    "Plurality_Elimination_Voting([\"a\", \"b\", \"c\"], [\"a1\", \"a2\", \"a3\", \"a4\", \"a5\"])"
   ]
  },
  {
   "cell_type": "code",
   "execution_count": 15,
   "metadata": {},
   "outputs": [],
   "source": [
    "def Borda_Voting(candidates, voters=3):\n",
    "    agents = []\n",
    "    for i in range(voters):\n",
    "        candidates_copy = candidates[:]\n",
    "        shuffle(candidates_copy)\n",
    "        a = Voters(\"a\"+str(i+1), candidates_copy)\n",
    "        agents.append(a)\n",
    "        \n",
    "    votes = {}\n",
    "    for candidate in candidates:\n",
    "        votes[candidate] = 0\n",
    "    \n",
    "    for agent in agents:\n",
    "        print(agent.votes)\n",
    "        for i in range(len(agent.votes)):\n",
    "            if agent.votes[i] in votes:\n",
    "                score = len(candidates)-(i+1)\n",
    "                if score <= 0:\n",
    "                    score = 0 \n",
    "                votes[agent.votes[i]] += len(candidates)-(i+1)\n",
    "            \n",
    "    for key in votes:\n",
    "        print(key+\" got \"+str(votes[key])+\" points.\")\n",
    "        \n",
    "    return max(votes.items(), key=operator.itemgetter(1))[0]"
   ]
  },
  {
   "cell_type": "code",
   "execution_count": 16,
   "metadata": {},
   "outputs": [
    {
     "name": "stdout",
     "output_type": "stream",
     "text": [
      "['c', 'b', 'a']\n",
      "['c', 'b', 'a']\n",
      "['b', 'a', 'c']\n",
      "a got 1 points.\n",
      "b got 4 points.\n",
      "c got 4 points.\n"
     ]
    },
    {
     "data": {
      "text/plain": [
       "'b'"
      ]
     },
     "execution_count": 16,
     "metadata": {},
     "output_type": "execute_result"
    }
   ],
   "source": [
    "Borda_Voting([\"a\", \"b\", \"c\"])"
   ]
  },
  {
   "cell_type": "code",
   "execution_count": 62,
   "metadata": {},
   "outputs": [],
   "source": [
    "def Make_Pairs(lst):\n",
    "    pairs = []\n",
    "    if len(lst) < 2:\n",
    "        return pairs\n",
    "    \n",
    "    passed = []\n",
    "    for i in range(-2, len(lst)-2, 2):\n",
    "        pair = []\n",
    "        print(lst[i], passed, lst[i] not in passed)\n",
    "        print(lst[i+1], passed, lst[i+1] not in passed)\n",
    "        if lst[i] not in passed:\n",
    "            pair.append(lst[i])\n",
    "            passed.append(lst[i])\n",
    "        if lst[i+1] not in passed:\n",
    "            pair.append(lst[i+1])\n",
    "            passed.append(lst[i+1])\n",
    "        \n",
    "        pairs.append(pair)\n",
    "    return pairs\n",
    "\n",
    "def Pairwise_Elimination_Voting(candidates, voters=3):\n",
    "    agents = []\n",
    "    for i in range(voters):\n",
    "        candidates_copy = candidates[:]\n",
    "        shuffle(candidates_copy)\n",
    "        a = Voters(\"a\"+str(i+1), [])\n",
    "        agents.append(a)\n",
    "    \n",
    "    pair_amount = len(candidates)/2\n",
    "    while pair_amount >= 1:\n",
    "        shuffle(candidates)\n",
    "        pairs = Make_Pairs(candidates)\n",
    "        print()\n",
    "        pair_amount = len(pairs)\n",
    "        \n",
    "        for pair in pairs:\n",
    "            if len(pair) == 2:\n",
    "                votes = {pair[0]:0, pair[1]:0}\n",
    "            else:\n",
    "                votes ={pair[0]:0}\n",
    "            for agent in agents:\n",
    "                picked = choice(pair)\n",
    "                agent.votes = picked\n",
    "                votes[picked] += 1 \n",
    "            for key in votes:\n",
    "                print(key+\" got \"+str(votes[key])+\" votes.\")\n",
    "            print()\n",
    "\n",
    "            if len(votes) == 2:\n",
    "                least_votes = min(votes.items(), key=operator.itemgetter(1))[0] \n",
    "                candidates.remove(least_votes)\n",
    "                \n",
    "    return candidates[0]"
   ]
  },
  {
   "cell_type": "code",
   "execution_count": 64,
   "metadata": {},
   "outputs": [
    {
     "name": "stdout",
     "output_type": "stream",
     "text": [
      "f [] True\n",
      "a [] True\n",
      "d ['f', 'a'] True\n",
      "b ['f', 'a'] True\n",
      "c ['f', 'a', 'd', 'b'] True\n",
      "e ['f', 'a', 'd', 'b'] True\n",
      "\n",
      "f got 3 votes.\n",
      "a got 0 votes.\n",
      "\n",
      "d got 1 votes.\n",
      "b got 2 votes.\n",
      "\n",
      "c got 1 votes.\n",
      "e got 2 votes.\n",
      "\n",
      "b [] True\n",
      "e [] True\n",
      "f ['b', 'e'] True\n",
      "b ['b', 'e'] False\n",
      "\n",
      "b got 2 votes.\n",
      "e got 1 votes.\n",
      "\n",
      "f got 3 votes.\n",
      "\n",
      "f [] True\n",
      "b [] True\n",
      "\n",
      "f got 1 votes.\n",
      "b got 2 votes.\n",
      "\n",
      "\n"
     ]
    },
    {
     "data": {
      "text/plain": [
       "'b'"
      ]
     },
     "execution_count": 64,
     "metadata": {},
     "output_type": "execute_result"
    }
   ],
   "source": [
    "Pairwise_Elimination_Voting([\"a\", \"b\", \"c\", \"d\", \"e\", \"f\"])"
   ]
  },
  {
   "cell_type": "code",
   "execution_count": null,
   "metadata": {},
   "outputs": [],
   "source": []
  },
  {
   "cell_type": "code",
   "execution_count": null,
   "metadata": {},
   "outputs": [],
   "source": []
  }
 ],
 "metadata": {
  "kernelspec": {
   "display_name": "Python 3",
   "language": "python",
   "name": "python3"
  },
  "language_info": {
   "codemirror_mode": {
    "name": "ipython",
    "version": 3
   },
   "file_extension": ".py",
   "mimetype": "text/x-python",
   "name": "python",
   "nbconvert_exporter": "python",
   "pygments_lexer": "ipython3",
   "version": "3.7.3"
  }
 },
 "nbformat": 4,
 "nbformat_minor": 2
}
