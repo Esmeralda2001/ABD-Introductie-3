{
 "cells": [
  {
   "cell_type": "code",
   "execution_count": 92,
   "metadata": {},
   "outputs": [],
   "source": [
    "import operator\n",
    "from random import shuffle\n",
    "from random import choice\n",
    "import random"
   ]
  },
  {
   "cell_type": "code",
   "execution_count": 51,
   "metadata": {},
   "outputs": [],
   "source": [
    "class Voters:\n",
    "    def __init__(self, name, votes=[]):\n",
    "        self.name = name\n",
    "        self.votes = votes"
   ]
  },
  {
   "cell_type": "code",
   "execution_count": 72,
   "metadata": {},
   "outputs": [],
   "source": [
    "def Plurality_Voting(candidates, voters=3):\n",
    "    agents = []\n",
    "    for i in range(voters):\n",
    "        candidates_copy = candidates[:]\n",
    "        shuffle(candidates_copy)\n",
    "        a = Voters(\"a\"+str(i+1), candidates_copy)\n",
    "        agents.append(a)\n",
    "        \n",
    "    votes = {}\n",
    "    for candidate in candidates:\n",
    "        votes[candidate] = 0\n",
    "    \n",
    "    for agent in agents:\n",
    "        if agent.votes[0] in votes:\n",
    "            votes[agent.votes[0]] += 1 \n",
    "            \n",
    "    for key in votes:\n",
    "        print(key+\" got \"+str(votes[key])+\" votes.\")\n",
    "        \n",
    "    return max(votes.items(), key=operator.itemgetter(1))[0]"
   ]
  },
  {
   "cell_type": "code",
   "execution_count": 73,
   "metadata": {},
   "outputs": [
    {
     "name": "stdout",
     "output_type": "stream",
     "text": [
      "a got 1 votes.\n",
      "b got 1 votes.\n",
      "c got 1 votes.\n"
     ]
    },
    {
     "data": {
      "text/plain": [
       "'a'"
      ]
     },
     "execution_count": 73,
     "metadata": {},
     "output_type": "execute_result"
    }
   ],
   "source": [
    "Plurality_Voting([\"a\", \"b\", \"c\"])"
   ]
  },
  {
   "cell_type": "code",
   "execution_count": 90,
   "metadata": {},
   "outputs": [],
   "source": [
    "def Cumulative_Voting(candidates, k=3, voters=3):\n",
    "    votes = {}\n",
    "    agents = []\n",
    "    \n",
    "    for i in range(voters):\n",
    "        agent_votes = []\n",
    "        for j in range(k):\n",
    "            agent_votes.append(choice(candidates))\n",
    "        a = Voters(\"a\"+str(i+1), agent_votes)\n",
    "        print(agent_votes)\n",
    "        agents.append(a)\n",
    "\n",
    "    for candidate in candidates:\n",
    "        votes[candidate] = 0\n",
    "    \n",
    "    for agent in agents:\n",
    "        for vote in agent.votes:\n",
    "            if vote in votes:\n",
    "                votes[vote] += 1\n",
    "                \n",
    "    for key in votes:\n",
    "        print(key+\" got \"+str(votes[key])+\" votes.\")\n",
    "            \n",
    "    return max(votes.items(), key=operator.itemgetter(1))[0]"
   ]
  },
  {
   "cell_type": "code",
   "execution_count": 91,
   "metadata": {},
   "outputs": [
    {
     "name": "stdout",
     "output_type": "stream",
     "text": [
      "['a', 'b', 'b']\n",
      "['a', 'c', 'b']\n",
      "['b', 'b', 'a']\n",
      "a got 3 votes.\n",
      "b got 5 votes.\n",
      "c got 1 votes.\n"
     ]
    },
    {
     "data": {
      "text/plain": [
       "'b'"
      ]
     },
     "execution_count": 91,
     "metadata": {},
     "output_type": "execute_result"
    }
   ],
   "source": [
    "Cumulative_Voting([\"a\", \"b\", \"c\"])"
   ]
  },
  {
   "cell_type": "code",
   "execution_count": 103,
   "metadata": {},
   "outputs": [],
   "source": [
    "def Approval_Voting(candidates, voters=3):\n",
    "    votes = {}\n",
    "    agents = []\n",
    "    \n",
    "    for i in range(voters):\n",
    "        agent_votes = []\n",
    "        k = random.randint(1, len(candidates))\n",
    "        candidates_copy = candidates[:]\n",
    "        for j in range(k):\n",
    "            v = choice(candidates_copy)\n",
    "            candidates_copy.remove(v)\n",
    "            agent_votes.append(v)\n",
    "        a = Voters(\"a\"+str(i+1), agent_votes)\n",
    "        print(agent_votes)\n",
    "        agents.append(a)\n",
    "\n",
    "    for candidate in candidates:\n",
    "        votes[candidate] = 0\n",
    "    \n",
    "    for agent in agents:\n",
    "        for vote in agent.votes:\n",
    "            if vote in votes:\n",
    "                votes[vote] += 1\n",
    "                \n",
    "    for key in votes:\n",
    "        print(key+\" got \"+str(votes[key])+\" votes.\")\n",
    "            \n",
    "    return max(votes.items(), key=operator.itemgetter(1))[0]"
   ]
  },
  {
   "cell_type": "code",
   "execution_count": 104,
   "metadata": {},
   "outputs": [
    {
     "name": "stdout",
     "output_type": "stream",
     "text": [
      "['c']\n",
      "['b', 'a', 'c']\n",
      "['a', 'c', 'b']\n",
      "a got 2 votes.\n",
      "b got 2 votes.\n",
      "c got 3 votes.\n"
     ]
    },
    {
     "data": {
      "text/plain": [
       "'c'"
      ]
     },
     "execution_count": 104,
     "metadata": {},
     "output_type": "execute_result"
    }
   ],
   "source": [
    "Approval_Voting([\"a\", \"b\", \"c\"])"
   ]
  },
  {
   "cell_type": "code",
   "execution_count": 135,
   "metadata": {},
   "outputs": [],
   "source": [
    "def Plurality_Elimination_Voting(candidates, voters):\n",
    "    candidates_left = len(candidates)\n",
    "    agents = []\n",
    "    votes = {}\n",
    "    \n",
    "    while candidates_left > 1:\n",
    "        num = 0 \n",
    "        print(voters)\n",
    "        for i in voters:\n",
    "            agent_votes = [choice(candidates)]\n",
    "            a = Voters(\"a\"+str(num+1), agent_votes)\n",
    "            print(agent_votes)\n",
    "            agents.append(a)\n",
    "            num += 1 \n",
    "            \n",
    "        for candidate in candidates:\n",
    "            votes[candidate] = 0\n",
    "        \n",
    "        for agent in agents:\n",
    "            for vote in agent.votes:\n",
    "                if vote in votes:\n",
    "                    votes[vote] += 1\n",
    "        \n",
    "        for key in votes:\n",
    "            print(key+\" got \"+str(votes[key])+\" votes.\")\n",
    "        \n",
    "        least_votes = min(votes.items(), key=operator.itemgetter(1))[0]\n",
    "        candidates.remove(least_votes)\n",
    "        candidates_left -= 1 \n",
    "        if candidates_left == 1:\n",
    "            break \n",
    "        votes = {}\n",
    "\n",
    "        for a in agents:\n",
    "            for vote in a.votes:\n",
    "                print(\"votes \",a.votes, least_votes)\n",
    "                if least_votes in a.votes:\n",
    "                    a.votes = choice(candidates)\n",
    "        agents = []\n",
    "        \n",
    "    return max(votes.items(), key=operator.itemgetter(1))[0]"
   ]
  },
  {
   "cell_type": "code",
   "execution_count": 136,
   "metadata": {},
   "outputs": [
    {
     "name": "stdout",
     "output_type": "stream",
     "text": [
      "['a1', 'a2', 'a3', 'a4', 'a5']\n",
      "['a']\n",
      "['b']\n",
      "['b']\n",
      "['c']\n",
      "['a']\n",
      "a got 2 votes.\n",
      "b got 2 votes.\n",
      "c got 1 votes.\n",
      "votes  ['a'] c\n",
      "votes  ['b'] c\n",
      "votes  ['b'] c\n",
      "votes  ['c'] c\n",
      "votes  ['a'] c\n",
      "['a1', 'a2', 'a3', 'a4', 'a5']\n",
      "['a']\n",
      "['a']\n",
      "['a']\n",
      "['a']\n",
      "['a']\n",
      "a got 5 votes.\n",
      "b got 0 votes.\n"
     ]
    },
    {
     "data": {
      "text/plain": [
       "'a'"
      ]
     },
     "execution_count": 136,
     "metadata": {},
     "output_type": "execute_result"
    }
   ],
   "source": [
    "Plurality_Elimination_Voting([\"a\", \"b\", \"c\"], [\"a1\", \"a2\", \"a3\", \"a4\", \"a5\"])"
   ]
  },
  {
   "cell_type": "code",
   "execution_count": 148,
   "metadata": {},
   "outputs": [],
   "source": [
    "def Borda_Voting(candidates, voters=3):\n",
    "    agents = []\n",
    "    for i in range(voters):\n",
    "        candidates_copy = candidates[:]\n",
    "        shuffle(candidates_copy)\n",
    "        a = Voters(\"a\"+str(i+1), candidates_copy)\n",
    "        agents.append(a)\n",
    "        \n",
    "    votes = {}\n",
    "    for candidate in candidates:\n",
    "        votes[candidate] = 0\n",
    "    \n",
    "    for agent in agents:\n",
    "        print(agent.votes)\n",
    "        for i in range(len(agent.votes)):\n",
    "            if agent.votes[i] in votes:\n",
    "                score = len(candidates)-(i+1)\n",
    "                if score <= 0:\n",
    "                    score = 0 \n",
    "                votes[agent.votes[i]] += len(candidates)-(i+1)\n",
    "            \n",
    "    for key in votes:\n",
    "        print(key+\" got \"+str(votes[key])+\" points.\")\n",
    "        \n",
    "    return max(votes.items(), key=operator.itemgetter(1))[0]"
   ]
  },
  {
   "cell_type": "code",
   "execution_count": 149,
   "metadata": {},
   "outputs": [
    {
     "name": "stdout",
     "output_type": "stream",
     "text": [
      "['c', 'b', 'a']\n",
      "['a', 'b', 'c']\n",
      "['c', 'b', 'a']\n",
      "a got 2 points.\n",
      "b got 3 points.\n",
      "c got 4 points.\n"
     ]
    },
    {
     "data": {
      "text/plain": [
       "'c'"
      ]
     },
     "execution_count": 149,
     "metadata": {},
     "output_type": "execute_result"
    }
   ],
   "source": [
    "Borda_Voting([\"a\", \"b\", \"c\"])"
   ]
  },
  {
   "cell_type": "code",
   "execution_count": null,
   "metadata": {},
   "outputs": [],
   "source": []
  }
 ],
 "metadata": {
  "kernelspec": {
   "display_name": "Python 3",
   "language": "python",
   "name": "python3"
  },
  "language_info": {
   "codemirror_mode": {
    "name": "ipython",
    "version": 3
   },
   "file_extension": ".py",
   "mimetype": "text/x-python",
   "name": "python",
   "nbconvert_exporter": "python",
   "pygments_lexer": "ipython3",
   "version": "3.7.3"
  }
 },
 "nbformat": 4,
 "nbformat_minor": 2
}
